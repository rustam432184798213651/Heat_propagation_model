{
 "cells": [
  {
   "cell_type": "code",
   "execution_count": 2,
   "metadata": {},
   "outputs": [],
   "source": [
    "import math\n",
    "import numpy as np\n",
    "import matplotlib.pyplot as plt\n",
    "\n",
    "L, H = 100, 100 # м\n",
    "N = [60, 120, 240, 480, 960]\n",
    "nx = N[1]\n",
    "ny = nx\n",
    "dx = L / nx\n",
    "D0 = 1.0  # м^2/с\n",
    "D1 = 0.01\n",
    "dt = 0.001 # For N = 960 was used dt = 0.001 but for N != 960 was used dt = 0.006\n",
    "tmax = 600.0\n",
    "it_max = int(tmax / dt)\n",
    "def get_derivative_of_q(dt, number_of_source, t):\n",
    "    teta = [43, 77]\n",
    "    p = [100, 100]\n",
    "    return p[number_of_source] * (np.sin(2*math.pi * t/teta[number_of_source]) + 1)"
   ]
  },
  {
   "cell_type": "code",
   "execution_count": 3,
   "metadata": {},
   "outputs": [
    {
     "data": {
      "text/plain": [
       "(0.0, 120.0, 0.0, 120.0)"
      ]
     },
     "execution_count": 3,
     "metadata": {},
     "output_type": "execute_result"
    },
    {
     "data": {
      "image/png": "[encoded data removed]",
      "text/plain": [
       "<Figure size 640x480 with 2 Axes>"
      ]
     },
     "metadata": {},
     "output_type": "display_data"
    }
   ],
   "source": [
    "Dij = np.full((ny, nx), D0)\n",
    "\n",
    "Dij[nx//4:3*nx//4, 5*nx//12:7*nx//12] = D1\n",
    "Dij[5*nx//12:7*nx//12, nx//4:3*nx//4] = D1\n",
    "\n",
    "plt.pcolormesh(Dij)\n",
    "plt.colorbar()\n",
    "plt.axis('equal')\n",
    "#Изображение матрицы коэффициентов диффузии"
   ]
  },
  {
   "cell_type": "code",
   "execution_count": 4,
   "metadata": {},
   "outputs": [],
   "source": [
    "def boundary_conditions(T: np.ndarray):\n",
    "    \"\"\"\n",
    "    Absolute heat insulation\n",
    "    \"\"\"\n",
    "    T[:, -1] = T[:, -2]\n",
    "    T[:, :, -1] = T[:, :, -2]\n",
    "    \"\"\"\n",
    "    Fixed temperature\n",
    "    \"\"\"\n",
    "    T[:, 0] = 0\n",
    "    T[:, :, 0] = 0"
   ]
  },
  {
   "cell_type": "code",
   "execution_count": null,
   "metadata": {},
   "outputs": [],
   "source": [
    "def heat_source(T: np. ndarray,\n",
    "                x: int,\n",
    "                y: int,\n",
    "                h: int,\n",
    "                w: int,\n",
    "                derivative_of_q: float,\n",
    "                dt: float\n",
    "               ):\n",
    "    T[:, y:y+h, x:x+w] += derivative_of_q * dt"
   ]
  },
  {
   "cell_type": "code",
   "execution_count": 5,
   "metadata": {},
   "outputs": [],
   "source": [
    "\n",
    "h_first_heat = 4*nx // 12\n",
    "w_first_heat = nx // 12\n",
    "x_first_heat = nx // 12\n",
    "y_first_heat = 4*nx // 12\n",
    "\n",
    "h_second_heat = nx // 12\n",
    "w_second_heat = 4*nx // 12\n",
    "x_second_heat = 4*nx // 12\n",
    "y_second_heat = nx // 12\n",
    "\n",
    "\n",
    "x_y_of_probes = np.zeros((4,2), dtype=int)\n",
    "\n",
    "x_y_of_probes[0] = np.array([4*nx//12, 4*nx//12])\n",
    "x_y_of_probes[1] = np.array([8*nx//12, 4*nx//12])\n",
    "x_y_of_probes[2] = np.array([8*nx//12, 8*nx//12])\n",
    "x_y_of_probes[3] = np.array([4*nx//12, 8*nx//12])\n"
   ]
  },
  {
   "cell_type": "code",
   "execution_count": null,
   "metadata": {},
   "outputs": [],
   "source": []
  }
 ],
 "metadata": {
  "kernelspec": {
   "display_name": "Python 3",
   "language": "python",
   "name": "python3"
  },
  "language_info": {
   "codemirror_mode": {
    "name": "ipython",
    "version": 3
   },
   "file_extension": ".py",
   "mimetype": "text/x-python",
   "name": "python",
   "nbconvert_exporter": "python",
   "pygments_lexer": "ipython3",
   "version": "3.11.5"
  }
 },
 "nbformat": 4,
 "nbformat_minor": 2
}
