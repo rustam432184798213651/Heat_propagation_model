{
 "cells": [
  {
   "cell_type": "code",
   "execution_count": null,
   "metadata": {},
   "outputs": [],
   "source": [
    "import math\n",
    "import numpy as np\n",
    "import matplotlib.pyplot as plt\n",
    "\n",
    "L, H = 100, 100 # м\n",
    "N = [60, 120, 240, 480, 960]\n",
    "nx = N[1]\n",
    "ny = nx\n",
    "dx = L / nx\n",
    "D0 = 1.0  # м^2/с\n",
    "D1 = 0.01\n",
    "dt = 0.001 # For N = 960 was used dt = 0.001 but for N != 960 was used dt = 0.006\n",
    "tmax = 600.0\n",
    "it_max = int(tmax / dt)\n",
    "def get_derivative_of_q(dt, number_of_source, t):\n",
    "    teta = [43, 77]\n",
    "    p = [100, 100]\n",
    "    return p[number_of_source] * (np.sin(2*math.pi * t/teta[number_of_source]) + 1)"
   ]
  }
 ],
 "metadata": {
  "language_info": {
   "name": "python"
  }
 },
 "nbformat": 4,
 "nbformat_minor": 2
}
